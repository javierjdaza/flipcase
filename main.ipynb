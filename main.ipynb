{
 "cells": [
  {
   "cell_type": "code",
   "execution_count": 1,
   "metadata": {},
   "outputs": [],
   "source": [
    "from PIL import Image\n",
    "def mm_to_pixels(mm, dpi=600):\n",
    "    # 1 inch = 25.4 mm\n",
    "    # pixels = (mm / 25.4) * dpi\n",
    "    return int((mm / 25.4) * dpi)\n"
   ]
  },
  {
   "cell_type": "code",
   "execution_count": 21,
   "metadata": {},
   "outputs": [],
   "source": [
    "from PIL import Image\n",
    "\n",
    "def fill_custom_size(image, custom_width_mm, custom_height_mm, target_dpi, custom_offset_x):\n",
    "    # Calculate aspect ratio of the original image\n",
    "    aspect_ratio = image.width / image.height\n",
    "\n",
    "    # Calculate dimensions to match aspect ratio and fit custom size\n",
    "    custom_width = mm_to_pixels(custom_width_mm, target_dpi)\n",
    "    custom_height = mm_to_pixels(custom_height_mm, target_dpi)\n",
    "\n",
    "    # Resize the image to cover the entire custom width and height\n",
    "    # if aspect_ratio > 1:\n",
    "    #     new_width = custom_width\n",
    "    #     new_height = int(custom_width / aspect_ratio)\n",
    "    # else:\n",
    "    #     print('efra')\n",
    "    new_height = custom_height\n",
    "    new_width = int(custom_height * aspect_ratio)\n",
    "\n",
    "    resized_image = image.resize((new_width, new_height), Image.LANCZOS)\n",
    "\n",
    "    # Create a new image with the specified dimensions\n",
    "    result_img = Image.new(\"RGB\", (custom_width, custom_height), (0, 0, 0))\n",
    "\n",
    "    # Calculate the offset to center the resized image\n",
    "    offset_x = int((custom_width - resized_image.width) / 2) + mm_to_pixels(custom_offset_x, target_dpi)\n",
    "\n",
    "    # Paste the resized image onto the new image, considering the x-offset\n",
    "    result_img.paste(resized_image, (offset_x, 0))\n",
    "\n",
    "    # Set DPI metadata\n",
    "    result_img.info['dpi'] = (target_dpi, target_dpi)\n",
    "\n",
    "    return result_img\n",
    "\n"
   ]
  },
  {
   "cell_type": "code",
   "execution_count": 22,
   "metadata": {},
   "outputs": [],
   "source": [
    "# Example usage\n",
    "img1 = Image.open(\"./2.jpeg\")  # Replace with the path to your image file\n",
    "custom_width_mm = 74.08\n",
    "custom_height_mm = 157.21\n",
    "target_dpi = 600\n",
    "custom_offset_x = -50\n",
    "\n",
    "result_img = fill_custom_size(img1, custom_width_mm, custom_height_mm, target_dpi, custom_offset_x)\n",
    "result_img.show()"
   ]
  },
  {
   "cell_type": "code",
   "execution_count": null,
   "metadata": {},
   "outputs": [],
   "source": []
  }
 ],
 "metadata": {
  "kernelspec": {
   "display_name": ".venv",
   "language": "python",
   "name": "python3"
  },
  "language_info": {
   "codemirror_mode": {
    "name": "ipython",
    "version": 3
   },
   "file_extension": ".py",
   "mimetype": "text/x-python",
   "name": "python",
   "nbconvert_exporter": "python",
   "pygments_lexer": "ipython3",
   "version": "3.11.0"
  }
 },
 "nbformat": 4,
 "nbformat_minor": 2
}
